{
 "cells": [
  {
   "cell_type": "code",
   "execution_count": 23,
   "id": "4c14e2bc",
   "metadata": {},
   "outputs": [],
   "source": [
    "#pip install pymupdf \n",
    "#!pip install tqdm\n",
    "#!pip install spacy "
   ]
  },
  {
   "cell_type": "code",
   "execution_count": 16,
   "id": "040959a8",
   "metadata": {},
   "outputs": [],
   "source": [
    "pdf_path = r'C:\\Users\\Rohan\\Desktop\\Rohan\\ML\\RAG\\human_nutrition.pdf'"
   ]
  },
  {
   "cell_type": "code",
   "execution_count": 20,
   "id": "b0f233d9",
   "metadata": {},
   "outputs": [
    {
     "data": {
      "application/vnd.jupyter.widget-view+json": {
       "model_id": "c8ba7ba82f2b4e4eae9502b3e9185606",
       "version_major": 2,
       "version_minor": 0
      },
      "text/plain": [
       "0it [00:00, ?it/s]"
      ]
     },
     "metadata": {},
     "output_type": "display_data"
    },
    {
     "data": {
      "text/plain": [
       "{'page_number': 4,\n",
       " 'page_char_count': 1181,\n",
       " 'page_word_count': 202,\n",
       " 'page_sentence_count_raw': 9,\n",
       " 'page_token_count': 295.25,\n",
       " 'text': 'Learning Objectives  By the end of this chapter, you will be able to:  •  Describe basic concepts in nutrition  •  Describe factors that affect your nutritional needs  •  Describe the importance of research and scientific  methods to understanding nutrition  What are Nutrients?  The foods we eat contain nutrients. Nutrients are substances  required by the body to perform its basic functions. Nutrients must  be obtained from our diet, since the human body does not  synthesize or produce them. Nutrients have one or more of three  basic functions: they provide energy, contribute to body structure,  and/or regulate chemical processes in the body. These basic  functions allow us to detect and respond to environmental  surroundings, move, excrete wastes, respire (breathe), grow, and  reproduce. There are six classes of nutrients required for the body  to function and maintain overall health. These are carbohydrates,  lipids, proteins, water, vitamins, and minerals. Foods also contain  non-nutrients that may be harmful (such as natural toxins common  in plant foods and additives like some dyes and preservatives) or  beneficial (such as antioxidants).  4  |  Introduction'}"
      ]
     },
     "execution_count": 20,
     "metadata": {},
     "output_type": "execute_result"
    }
   ],
   "source": [
    "import fitz\n",
    "from tqdm.auto import tqdm \n",
    "\n",
    "def text_formatter(text: str) -> str:\n",
    "    \"\"\"Performs minor formatting on text.\"\"\"\n",
    "    cleaned_text = text.replace(\"\\n\", \" \").strip() \n",
    "\n",
    "    return cleaned_text\n",
    "\n",
    "def open_and_read_pdf(pdf_path: str) -> list[dict]:\n",
    "    \"\"\"\n",
    "    Opens a PDF file, reads its text content page by page, and collects statistics.\n",
    "\n",
    "    Parameters:\n",
    "        pdf_path (str): The file path to the PDF document to be opened and read.\n",
    "\n",
    "    Returns:\n",
    "        list[dict]: A list of dictionaries, each containing the page number\n",
    "        (adjusted), character count, word count, sentence count, token count, and the extracted text\n",
    "        for each page.\n",
    "    \"\"\"\n",
    "    doc = fitz.open(pdf_path)  # open a document\n",
    "    pages_and_texts = [] # Empty list to hold page data\n",
    "    for page_number, page in tqdm(enumerate(doc)):  # iterate the document pages\n",
    "        text = page.get_text()  # get plain text encoded as UTF-8\n",
    "        text = text_formatter(text)\n",
    "        pages_and_texts.append({\"page_number\": page_number - 41,  # adjust page numbers since our PDF starts on page 42\n",
    "                                \"page_char_count\": len(text),\n",
    "                                \"page_word_count\": len(text.split(\" \")),\n",
    "                                \"page_sentence_count_raw\": len(text.split(\". \")),\n",
    "                                \"page_token_count\": len(text) / 4,  # 1 token = ~4 chars, see: https://help.openai.com/en/articles/4936856-what-are-tokens-and-how-to-count-them\n",
    "                                \"text\": text})\n",
    "    return pages_and_texts\n",
    "\n",
    "pages_and_texts = open_and_read_pdf(pdf_path=pdf_path)\n",
    "pages_and_texts[45]\n"
   ]
  },
  {
   "cell_type": "code",
   "execution_count": 27,
   "id": "34eac59e",
   "metadata": {},
   "outputs": [
    {
     "data": {
      "application/vnd.jupyter.widget-view+json": {
       "model_id": "57439d396d1947caac7c2e58955fe357",
       "version_major": 2,
       "version_minor": 0
      },
      "text/plain": [
       "  0%|          | 0/1208 [00:00<?, ?it/s]"
      ]
     },
     "metadata": {},
     "output_type": "display_data"
    },
    {
     "data": {
      "text/plain": [
       "{'page_number': 4,\n",
       " 'page_char_count': 1181,\n",
       " 'page_word_count': 202,\n",
       " 'page_sentence_count_raw': 9,\n",
       " 'page_token_count': 295.25,\n",
       " 'text': 'Learning Objectives  By the end of this chapter, you will be able to:  •  Describe basic concepts in nutrition  •  Describe factors that affect your nutritional needs  •  Describe the importance of research and scientific  methods to understanding nutrition  What are Nutrients?  The foods we eat contain nutrients. Nutrients are substances  required by the body to perform its basic functions. Nutrients must  be obtained from our diet, since the human body does not  synthesize or produce them. Nutrients have one or more of three  basic functions: they provide energy, contribute to body structure,  and/or regulate chemical processes in the body. These basic  functions allow us to detect and respond to environmental  surroundings, move, excrete wastes, respire (breathe), grow, and  reproduce. There are six classes of nutrients required for the body  to function and maintain overall health. These are carbohydrates,  lipids, proteins, water, vitamins, and minerals. Foods also contain  non-nutrients that may be harmful (such as natural toxins common  in plant foods and additives like some dyes and preservatives) or  beneficial (such as antioxidants).  4  |  Introduction',\n",
       " 'sentences': ['Learning Objectives  By the end of this chapter, you will be able to:  •  Describe basic concepts in nutrition  •  Describe factors that affect your nutritional needs  •  Describe the importance of research and scientific  methods to understanding nutrition  What are Nutrients?',\n",
       "  ' The foods we eat contain nutrients.',\n",
       "  'Nutrients are substances  required by the body to perform its basic functions.',\n",
       "  'Nutrients must  be obtained from our diet, since the human body does not  synthesize or produce them.',\n",
       "  'Nutrients have one or more of three  basic functions: they provide energy, contribute to body structure,  and/or regulate chemical processes in the body.',\n",
       "  'These basic  functions allow us to detect and respond to environmental  surroundings, move, excrete wastes, respire (breathe), grow, and  reproduce.',\n",
       "  'There are six classes of nutrients required for the body  to function and maintain overall health.',\n",
       "  'These are carbohydrates,  lipids, proteins, water, vitamins, and minerals.',\n",
       "  'Foods also contain  non-nutrients that may be harmful (such as natural toxins common  in plant foods and additives like some dyes and preservatives) or  beneficial (such as antioxidants).',\n",
       "  ' 4  |  Introduction'],\n",
       " 'page_sentence_count_spacy': 10}"
      ]
     },
     "execution_count": 27,
     "metadata": {},
     "output_type": "execute_result"
    }
   ],
   "source": [
    "from spacy.lang.en import English # see https://spacy.io/usage for install instructions\n",
    "\n",
    "nlp = English()\n",
    "\n",
    "# Add a sentencizer pipeline, see https://spacy.io/api/sentencizer/ \n",
    "nlp.add_pipe(\"sentencizer\")\n",
    "\n",
    "for item in tqdm(pages_and_texts):\n",
    "    item[\"sentences\"] = list(nlp(item[\"text\"]).sents)\n",
    "    \n",
    "    # Make sure all sentences are strings\n",
    "    item[\"sentences\"] = [str(sentence) for sentence in item[\"sentences\"]]\n",
    "    \n",
    "    # Count the sentences \n",
    "    item[\"page_sentence_count_spacy\"] = len(item[\"sentences\"])\n",
    "pages_and_texts[45]"
   ]
  },
  {
   "cell_type": "code",
   "execution_count": 30,
   "id": "596163f8",
   "metadata": {},
   "outputs": [
    {
     "data": {
      "application/vnd.jupyter.widget-view+json": {
       "model_id": "103d71bdc4d445d2b3fbeb09cead950c",
       "version_major": 2,
       "version_minor": 0
      },
      "text/plain": [
       "  0%|          | 0/1208 [00:00<?, ?it/s]"
      ]
     },
     "metadata": {},
     "output_type": "display_data"
    },
    {
     "data": {
      "text/plain": [
       "{'page_number': 159,\n",
       " 'page_char_count': 1762,\n",
       " 'page_word_count': 303,\n",
       " 'page_sentence_count_raw': 15,\n",
       " 'page_token_count': 440.5,\n",
       " 'text': 'thermoregulation is to balance heat gain with heat loss and body  water plays an important role in accomplishing this. Human life  is supported within a narrow range of temperature, with the  temperature set point of the body being 98.6°F (37°C). Too low or  too high of a temperature causes enzymes to stop functioning and  metabolism is halted. At 82.4°F (28°C) muscle failure occurs and  hypothermia sets in. At the opposite extreme of 111.2°F (44°C) the  central nervous system fails and death results. Water is good at  storing heat, an attribute referred to as heat capacity and thus helps  maintain the temperature set point of the body despite changes in  the surrounding environment.  There are several mechanisms in place that move body water  from place to place as a method to distribute heat in the body and  equalize body temperature (Figure 3.4 “Thermoregulatory Center”).  The hypothalamus in the brain is the thermoregulatory center. The  hypothalamus contains special protein sensors that detect blood  temperature. The skin also contains temperature sensors that  respond quickly to changes in immediate surroundings. In response  to cold sensors in the skin, a neural signal is sent to the  hypothalamus, which then sends a signal to smooth muscle tissue  surrounding blood vessels causing them to constrict and reduce  blood flow. This reduces heat lost to the environment. The  hypothalamus also sends signals to muscles to erect hairs and shiver  and to endocrine glands like the thyroid to secrete hormones  capable of ramping up metabolism. These actions increase heat  conservation and stimulate its production in the body in response  to cooling temperatures.  Figure 3.4 Thermoregulatory Center  Water’s Importance to Vitality  |  159',\n",
       " 'sentences': ['thermoregulation is to balance heat gain with heat loss and body  water plays an important role in accomplishing this.',\n",
       "  'Human life  is supported within a narrow range of temperature, with the  temperature set point of the body being 98.6°F (37°C).',\n",
       "  'Too low or  too high of a temperature causes enzymes to stop functioning and  metabolism is halted.',\n",
       "  'At 82.4°F (28°C) muscle failure occurs and  hypothermia sets in.',\n",
       "  'At the opposite extreme of 111.2°F (44°C) the  central nervous system fails and death results.',\n",
       "  'Water is good at  storing heat, an attribute referred to as heat capacity and thus helps  maintain the temperature set point of the body despite changes in  the surrounding environment.',\n",
       "  ' There are several mechanisms in place that move body water  from place to place as a method to distribute heat in the body and  equalize body temperature (Figure 3.4 “Thermoregulatory Center”).',\n",
       "  ' The hypothalamus in the brain is the thermoregulatory center.',\n",
       "  'The  hypothalamus contains special protein sensors that detect blood  temperature.',\n",
       "  'The skin also contains temperature sensors that  respond quickly to changes in immediate surroundings.',\n",
       "  'In response  to cold sensors in the skin, a neural signal is sent to the  hypothalamus, which then sends a signal to smooth muscle tissue  surrounding blood vessels causing them to constrict and reduce  blood flow.',\n",
       "  'This reduces heat lost to the environment.',\n",
       "  'The  hypothalamus also sends signals to muscles to erect hairs and shiver  and to endocrine glands like the thyroid to secrete hormones  capable of ramping up metabolism.',\n",
       "  'These actions increase heat  conservation and stimulate its production in the body in response  to cooling temperatures.',\n",
       "  ' Figure 3.4 Thermoregulatory Center  Water’s Importance to Vitality  |  159'],\n",
       " 'page_sentence_count_spacy': 15,\n",
       " 'sentence_chunks': [['thermoregulation is to balance heat gain with heat loss and body  water plays an important role in accomplishing this.',\n",
       "   'Human life  is supported within a narrow range of temperature, with the  temperature set point of the body being 98.6°F (37°C).',\n",
       "   'Too low or  too high of a temperature causes enzymes to stop functioning and  metabolism is halted.',\n",
       "   'At 82.4°F (28°C) muscle failure occurs and  hypothermia sets in.',\n",
       "   'At the opposite extreme of 111.2°F (44°C) the  central nervous system fails and death results.',\n",
       "   'Water is good at  storing heat, an attribute referred to as heat capacity and thus helps  maintain the temperature set point of the body despite changes in  the surrounding environment.',\n",
       "   ' There are several mechanisms in place that move body water  from place to place as a method to distribute heat in the body and  equalize body temperature (Figure 3.4 “Thermoregulatory Center”).',\n",
       "   ' The hypothalamus in the brain is the thermoregulatory center.',\n",
       "   'The  hypothalamus contains special protein sensors that detect blood  temperature.',\n",
       "   'The skin also contains temperature sensors that  respond quickly to changes in immediate surroundings.'],\n",
       "  ['In response  to cold sensors in the skin, a neural signal is sent to the  hypothalamus, which then sends a signal to smooth muscle tissue  surrounding blood vessels causing them to constrict and reduce  blood flow.',\n",
       "   'This reduces heat lost to the environment.',\n",
       "   'The  hypothalamus also sends signals to muscles to erect hairs and shiver  and to endocrine glands like the thyroid to secrete hormones  capable of ramping up metabolism.',\n",
       "   'These actions increase heat  conservation and stimulate its production in the body in response  to cooling temperatures.',\n",
       "   ' Figure 3.4 Thermoregulatory Center  Water’s Importance to Vitality  |  159']],\n",
       " 'num_chunks': 2}"
      ]
     },
     "execution_count": 30,
     "metadata": {},
     "output_type": "execute_result"
    }
   ],
   "source": [
    "# Define split size to turn groups of sentences into chunks\n",
    "num_sentence_chunk_size = 10 \n",
    "\n",
    "# Create a function that recursively splits a list into desired sizes\n",
    "def split_list(input_list: list, \n",
    "               slice_size: int) -> list[list[str]]:\n",
    "    \"\"\"\n",
    "    Splits the input_list into sublists of size slice_size (or as close as possible).\n",
    "\n",
    "    For example, a list of 17 sentences would be split into two lists of [[10], [7]]\n",
    "    \"\"\"\n",
    "    return [input_list[i:i + slice_size] for i in range(0, len(input_list), slice_size)]\n",
    "\n",
    "# Loop through pages and texts and split sentences into chunks\n",
    "for item in tqdm(pages_and_texts):\n",
    "    item[\"sentence_chunks\"] = split_list(input_list=item[\"sentences\"],\n",
    "                                         slice_size=num_sentence_chunk_size)\n",
    "    item[\"num_chunks\"] = len(item[\"sentence_chunks\"])\n",
    "    \n",
    "pages_and_texts[200]"
   ]
  }
 ],
 "metadata": {
  "kernelspec": {
   "display_name": "base",
   "language": "python",
   "name": "python3"
  },
  "language_info": {
   "codemirror_mode": {
    "name": "ipython",
    "version": 3
   },
   "file_extension": ".py",
   "mimetype": "text/x-python",
   "name": "python",
   "nbconvert_exporter": "python",
   "pygments_lexer": "ipython3",
   "version": "3.13.5"
  }
 },
 "nbformat": 4,
 "nbformat_minor": 5
}
