{
 "cells": [
  {
   "cell_type": "code",
   "execution_count": 235,
   "id": "51ddcd10",
   "metadata": {},
   "outputs": [],
   "source": [
    "#Setting up the environment and loading the dataset\n",
    "import numpy as np\n",
    "from sklearn.tree import DecisionTreeRegressor\n",
    "from sklearn.metrics import mean_absolute_error\n",
    "from sklearn.model_selection import train_test_split\n",
    "from sklearn.ensemble import RandomForestRegressor\n",
    "from sklearn.feature_selection import RFE\n",
    "from sklearn.ensemble import GradientBoostingRegressor\n",
    "from xgboost import XGBRegressor\n",
    "\n",
    "# Define the path to the dataset\n",
    "Housing_Prices = f'C:\\\\Users\\\\Rohan\\\\Desktop\\\\Rohan\\\\Kaggle\\\\Housing Prices Competition\\\\home-data-for-ml-course\\\\train.csv'\n",
    "import pandas as pd\n",
    "\n",
    "# Load the dataset\n",
    "home_data = pd.read_csv(Housing_Prices)"
   ]
  },
  {
   "cell_type": "code",
   "execution_count": 236,
   "id": "09804f0f",
   "metadata": {},
   "outputs": [
    {
     "name": "stdout",
     "output_type": "stream",
     "text": [
      "Id                 0\n",
      "MSSubClass         0\n",
      "MSZoning           0\n",
      "LotFrontage      259\n",
      "LotArea            0\n",
      "                ... \n",
      "MoSold             0\n",
      "YrSold             0\n",
      "SaleType           0\n",
      "SaleCondition      0\n",
      "SalePrice          0\n",
      "Length: 81, dtype: int64\n"
     ]
    }
   ],
   "source": [
    "# Display the first few rows of the dataset\n",
    "home_data.head()\n",
    "\n",
    "# Display the null values in the dataset\n",
    "print(home_data.isnull().sum())"
   ]
  },
  {
   "cell_type": "code",
   "execution_count": 237,
   "id": "41cce3bd",
   "metadata": {},
   "outputs": [
    {
     "name": "stdout",
     "output_type": "stream",
     "text": [
      "Index(['Id', 'MSSubClass', 'MSZoning', 'LotFrontage', 'LotArea', 'Street',\n",
      "       'Alley', 'LotShape', 'LandContour', 'Utilities', 'LotConfig',\n",
      "       'LandSlope', 'Neighborhood', 'Condition1', 'Condition2', 'BldgType',\n",
      "       'HouseStyle', 'OverallQual', 'OverallCond', 'YearBuilt', 'YearRemodAdd',\n",
      "       'RoofStyle', 'RoofMatl', 'Exterior1st', 'Exterior2nd', 'MasVnrType',\n",
      "       'MasVnrArea', 'ExterQual', 'ExterCond', 'Foundation', 'BsmtQual',\n",
      "       'BsmtCond', 'BsmtExposure', 'BsmtFinType1', 'BsmtFinSF1',\n",
      "       'BsmtFinType2', 'BsmtFinSF2', 'BsmtUnfSF', 'TotalBsmtSF', 'Heating',\n",
      "       'HeatingQC', 'CentralAir', 'Electrical', '1stFlrSF', '2ndFlrSF',\n",
      "       'LowQualFinSF', 'GrLivArea', 'BsmtFullBath', 'BsmtHalfBath', 'FullBath',\n",
      "       'HalfBath', 'BedroomAbvGr', 'KitchenAbvGr', 'KitchenQual',\n",
      "       'TotRmsAbvGrd', 'Functional', 'Fireplaces', 'FireplaceQu', 'GarageType',\n",
      "       'GarageYrBlt', 'GarageFinish', 'GarageCars', 'GarageArea', 'GarageQual',\n",
      "       'GarageCond', 'PavedDrive', 'WoodDeckSF', 'OpenPorchSF',\n",
      "       'EnclosedPorch', '3SsnPorch', 'ScreenPorch', 'PoolArea', 'PoolQC',\n",
      "       'Fence', 'MiscFeature', 'MiscVal', 'MoSold', 'YrSold', 'SaleType',\n",
      "       'SaleCondition', 'SalePrice'],\n",
      "      dtype='object')\n"
     ]
    }
   ],
   "source": [
    "#display all the columns in the dataset\n",
    "print(home_data.columns)"
   ]
  },
  {
   "cell_type": "code",
   "execution_count": 241,
   "id": "57c753e4",
   "metadata": {},
   "outputs": [
    {
     "name": "stdout",
     "output_type": "stream",
     "text": [
      "LotArea          0\n",
      "YearBuilt        0\n",
      "1stFlrSF         0\n",
      "2ndFlrSF         0\n",
      "FullBath         0\n",
      "BedroomAbvGr     0\n",
      "TotRmsAbvGrd     0\n",
      "YrSold           0\n",
      "OverallQual      0\n",
      "GrLivArea        0\n",
      "GarageCars       0\n",
      "GarageArea       0\n",
      "TotalBsmtSF      0\n",
      "MasVnrArea       0\n",
      "Fireplaces       0\n",
      "WoodDeckSF       0\n",
      "OpenPorchSF      0\n",
      "EnclosedPorch    0\n",
      "ScreenPorch      0\n",
      "PoolArea         0\n",
      "MiscVal          0\n",
      "MoSold           0\n",
      "dtype: int64\n"
     ]
    }
   ],
   "source": [
    "# Define the target variable and features\n",
    "#y = home_data.SalePrice\n",
    "y = home_data.loc[X.index, 'SalePrice']\n",
    "#X = home_data.drop(['SalePrice'], axis=1)\n",
    "features = ['LotArea', 'YearBuilt', '1stFlrSF', '2ndFlrSF', 'FullBath', 'BedroomAbvGr', 'TotRmsAbvGrd','YrSold','OverallQual','GrLivArea','GarageCars',\n",
    "            'GarageArea','TotalBsmtSF','MasVnrArea','Fireplaces','WoodDeckSF','OpenPorchSF','EnclosedPorch','ScreenPorch','PoolArea','MiscVal','MoSold']\n",
    "X = home_data[features].dropna()\n",
    "X.head()\n",
    "print(X.isnull().sum())"
   ]
  },
  {
   "cell_type": "code",
   "execution_count": 242,
   "id": "2b854e18",
   "metadata": {},
   "outputs": [],
   "source": [
    "train_X, val_X, train_y, val_y = train_test_split(X, y, random_state=2)"
   ]
  },
  {
   "cell_type": "code",
   "execution_count": 243,
   "id": "7e220218",
   "metadata": {},
   "outputs": [],
   "source": [
    "#define and train the Decision Tree model\n",
    "housing_model = DecisionTreeRegressor(random_state=1)\n",
    "housing_model.fit(train_X, train_y)\n",
    "df_model = housing_model.predict(val_X)\n",
    "\n",
    "# define and train the random forest model\n",
    "rf_model = RandomForestRegressor(random_state=1)\n",
    "rf_model.fit(train_X, train_y)\n",
    "rf_model= rf_val_predictions = rf_model.predict(val_X)\n",
    "\n",
    "#define and train the gradient boosting model\n",
    "gb_model = GradientBoostingRegressor(random_state=1)\n",
    "gb_model.fit(train_X, train_y)\n",
    "gb_model = gb_model.predict(val_X)\n",
    "\n",
    "#define and train the XGBoost model\n",
    "xgb_model = XGBRegressor(random_state=1, n_estimators=100, learning_rate=0.1)\n",
    "xgb_model.fit(train_X, train_y)\n",
    "xgb_model_predictions = xgb_model.predict(val_X)\n"
   ]
  },
  {
   "cell_type": "code",
   "execution_count": 244,
   "id": "027f2b58",
   "metadata": {},
   "outputs": [
    {
     "data": {
      "text/html": [
       "<div>\n",
       "<style scoped>\n",
       "    .dataframe tbody tr th:only-of-type {\n",
       "        vertical-align: middle;\n",
       "    }\n",
       "\n",
       "    .dataframe tbody tr th {\n",
       "        vertical-align: top;\n",
       "    }\n",
       "\n",
       "    .dataframe thead th {\n",
       "        text-align: right;\n",
       "    }\n",
       "</style>\n",
       "<table border=\"1\" class=\"dataframe\">\n",
       "  <thead>\n",
       "    <tr style=\"text-align: right;\">\n",
       "      <th></th>\n",
       "      <th>LotArea</th>\n",
       "      <th>YearBuilt</th>\n",
       "      <th>1stFlrSF</th>\n",
       "      <th>2ndFlrSF</th>\n",
       "      <th>FullBath</th>\n",
       "      <th>BedroomAbvGr</th>\n",
       "      <th>TotRmsAbvGrd</th>\n",
       "      <th>YrSold</th>\n",
       "      <th>OverallQual</th>\n",
       "      <th>GrLivArea</th>\n",
       "      <th>...</th>\n",
       "      <th>EnclosedPorch</th>\n",
       "      <th>ScreenPorch</th>\n",
       "      <th>PoolArea</th>\n",
       "      <th>MiscVal</th>\n",
       "      <th>MoSold</th>\n",
       "      <th>rfmodel</th>\n",
       "      <th>dfmodel</th>\n",
       "      <th>gb_model</th>\n",
       "      <th>xgb_model</th>\n",
       "      <th>ActualPrice</th>\n",
       "    </tr>\n",
       "  </thead>\n",
       "  <tbody>\n",
       "    <tr>\n",
       "      <th>894</th>\n",
       "      <td>7018</td>\n",
       "      <td>1979</td>\n",
       "      <td>1535</td>\n",
       "      <td>0</td>\n",
       "      <td>2</td>\n",
       "      <td>4</td>\n",
       "      <td>8</td>\n",
       "      <td>2009</td>\n",
       "      <td>5</td>\n",
       "      <td>1535</td>\n",
       "      <td>...</td>\n",
       "      <td>0</td>\n",
       "      <td>0</td>\n",
       "      <td>0</td>\n",
       "      <td>0</td>\n",
       "      <td>6</td>\n",
       "      <td>138460.89</td>\n",
       "      <td>167000.0</td>\n",
       "      <td>126041.940085</td>\n",
       "      <td>127574.820312</td>\n",
       "      <td>118858</td>\n",
       "    </tr>\n",
       "    <tr>\n",
       "      <th>824</th>\n",
       "      <td>11216</td>\n",
       "      <td>2006</td>\n",
       "      <td>1489</td>\n",
       "      <td>0</td>\n",
       "      <td>2</td>\n",
       "      <td>3</td>\n",
       "      <td>7</td>\n",
       "      <td>2006</td>\n",
       "      <td>8</td>\n",
       "      <td>1489</td>\n",
       "      <td>...</td>\n",
       "      <td>0</td>\n",
       "      <td>0</td>\n",
       "      <td>0</td>\n",
       "      <td>0</td>\n",
       "      <td>6</td>\n",
       "      <td>250131.06</td>\n",
       "      <td>232000.0</td>\n",
       "      <td>255494.615318</td>\n",
       "      <td>263391.343750</td>\n",
       "      <td>232600</td>\n",
       "    </tr>\n",
       "    <tr>\n",
       "      <th>145</th>\n",
       "      <td>2522</td>\n",
       "      <td>2004</td>\n",
       "      <td>970</td>\n",
       "      <td>739</td>\n",
       "      <td>2</td>\n",
       "      <td>3</td>\n",
       "      <td>7</td>\n",
       "      <td>2006</td>\n",
       "      <td>6</td>\n",
       "      <td>1709</td>\n",
       "      <td>...</td>\n",
       "      <td>0</td>\n",
       "      <td>0</td>\n",
       "      <td>0</td>\n",
       "      <td>0</td>\n",
       "      <td>4</td>\n",
       "      <td>177766.00</td>\n",
       "      <td>186500.0</td>\n",
       "      <td>149897.583157</td>\n",
       "      <td>149844.359375</td>\n",
       "      <td>130000</td>\n",
       "    </tr>\n",
       "    <tr>\n",
       "      <th>1034</th>\n",
       "      <td>6305</td>\n",
       "      <td>1938</td>\n",
       "      <td>954</td>\n",
       "      <td>0</td>\n",
       "      <td>1</td>\n",
       "      <td>2</td>\n",
       "      <td>5</td>\n",
       "      <td>2007</td>\n",
       "      <td>5</td>\n",
       "      <td>954</td>\n",
       "      <td>...</td>\n",
       "      <td>0</td>\n",
       "      <td>0</td>\n",
       "      <td>0</td>\n",
       "      <td>0</td>\n",
       "      <td>6</td>\n",
       "      <td>114002.00</td>\n",
       "      <td>105000.0</td>\n",
       "      <td>114107.143021</td>\n",
       "      <td>114488.203125</td>\n",
       "      <td>119750</td>\n",
       "    </tr>\n",
       "    <tr>\n",
       "      <th>469</th>\n",
       "      <td>9291</td>\n",
       "      <td>1993</td>\n",
       "      <td>832</td>\n",
       "      <td>878</td>\n",
       "      <td>2</td>\n",
       "      <td>3</td>\n",
       "      <td>7</td>\n",
       "      <td>2008</td>\n",
       "      <td>6</td>\n",
       "      <td>1710</td>\n",
       "      <td>...</td>\n",
       "      <td>0</td>\n",
       "      <td>0</td>\n",
       "      <td>0</td>\n",
       "      <td>0</td>\n",
       "      <td>6</td>\n",
       "      <td>198534.00</td>\n",
       "      <td>177000.0</td>\n",
       "      <td>176769.343227</td>\n",
       "      <td>191038.484375</td>\n",
       "      <td>187000</td>\n",
       "    </tr>\n",
       "  </tbody>\n",
       "</table>\n",
       "<p>5 rows × 27 columns</p>\n",
       "</div>"
      ],
      "text/plain": [
       "      LotArea  YearBuilt  1stFlrSF  2ndFlrSF  FullBath  BedroomAbvGr  \\\n",
       "894      7018       1979      1535         0         2             4   \n",
       "824     11216       2006      1489         0         2             3   \n",
       "145      2522       2004       970       739         2             3   \n",
       "1034     6305       1938       954         0         1             2   \n",
       "469      9291       1993       832       878         2             3   \n",
       "\n",
       "      TotRmsAbvGrd  YrSold  OverallQual  GrLivArea  ...  EnclosedPorch  \\\n",
       "894              8    2009            5       1535  ...              0   \n",
       "824              7    2006            8       1489  ...              0   \n",
       "145              7    2006            6       1709  ...              0   \n",
       "1034             5    2007            5        954  ...              0   \n",
       "469              7    2008            6       1710  ...              0   \n",
       "\n",
       "      ScreenPorch  PoolArea  MiscVal  MoSold    rfmodel   dfmodel  \\\n",
       "894             0         0        0       6  138460.89  167000.0   \n",
       "824             0         0        0       6  250131.06  232000.0   \n",
       "145             0         0        0       4  177766.00  186500.0   \n",
       "1034            0         0        0       6  114002.00  105000.0   \n",
       "469             0         0        0       6  198534.00  177000.0   \n",
       "\n",
       "           gb_model      xgb_model  ActualPrice  \n",
       "894   126041.940085  127574.820312       118858  \n",
       "824   255494.615318  263391.343750       232600  \n",
       "145   149897.583157  149844.359375       130000  \n",
       "1034  114107.143021  114488.203125       119750  \n",
       "469   176769.343227  191038.484375       187000  \n",
       "\n",
       "[5 rows x 27 columns]"
      ]
     },
     "execution_count": 244,
     "metadata": {},
     "output_type": "execute_result"
    }
   ],
   "source": [
    "# Get predictions\n",
    "rf_model_predictions = rf_model\n",
    "df_model_predictions = df_model\n",
    "gf_model_predictions = gb_model\n",
    "xgb_model_predictions = xgb_model_predictions\n",
    "\n",
    "# Combine predictions with the validation features\n",
    "results = val_X.copy()\n",
    "results['rfmodel'] = rf_model_predictions\n",
    "results['dfmodel'] = df_model_predictions\n",
    "results['gb_model'] = gf_model_predictions\n",
    "results['xgb_model'] = xgb_model_predictions\n",
    "results['ActualPrice'] = val_y.values\n",
    "\n",
    "# Display the first few rows\n",
    "results.head()"
   ]
  },
  {
   "cell_type": "code",
   "execution_count": 245,
   "id": "b33eee37",
   "metadata": {},
   "outputs": [
    {
     "name": "stdout",
     "output_type": "stream",
     "text": [
      "Mean of Actual Prices: 186084.23966942148\n",
      "Mean of DecisionTree Predicted Prices: 187714.18253443527\n",
      "Mean of RandomForest Predicted Prices: 184321.39393939395\n",
      "Mean of GradientBoosting Predicted Prices: 185866.1754091703\n",
      "Mean of XGBoost Predicted Prices: 187998.77\n",
      "Percentage difference between Actual Prices and Random Forest Predicted Prices: 0.8759166643609184\n",
      "Percentage difference between Actual Prices and Decision Tree Predicted Prices: -0.9473374710073472\n",
      "Percentage difference between Actual Prices and Gradient Boosting Predicted Prices: -0.1171857759897236\n",
      "Percentage difference between Actual Prices and XGBoost Predicted Prices: 1.0288535328126591\n"
     ]
    }
   ],
   "source": [
    "print(\"Mean of Actual Prices:\", results['ActualPrice'].mean())\n",
    "print(\"Mean of DecisionTree Predicted Prices:\", results['rfmodel'].mean())\n",
    "print(\"Mean of RandomForest Predicted Prices:\", results['dfmodel'].mean())\n",
    "print(\"Mean of GradientBoosting Predicted Prices:\", results['gb_model'].mean())\n",
    "print(\"Mean of XGBoost Predicted Prices:\", results['xgb_model'].mean())\n",
    "#show the percenatge difference between the actual prices and the predicted prices\n",
    "results['rfmodel_diff'] = (results['rfmodel'] - results['ActualPrice'])\n",
    "print(\"Percentage difference between Actual Prices and Random Forest Predicted Prices:\", results['rfmodel_diff'].mean() / results['ActualPrice'].mean() * 100)\n",
    "print(\"Percentage difference between Actual Prices and Decision Tree Predicted Prices:\", (results['dfmodel'] - results['ActualPrice']).mean() / results['ActualPrice'].mean() * 100)\n",
    "print(\"Percentage difference between Actual Prices and Gradient Boosting Predicted Prices:\", (results['gb_model'] - results['ActualPrice']).mean() / results['ActualPrice'].mean() * 100)\n",
    "print(\"Percentage difference between Actual Prices and XGBoost Predicted Prices:\", (results['xgb_model'] - results['ActualPrice']).mean() / results['ActualPrice'].mean() * 100)\n"
   ]
  },
  {
   "cell_type": "markdown",
   "id": "777a859b",
   "metadata": {},
   "source": [
    "Feature selection--------------------"
   ]
  },
  {
   "cell_type": "code",
   "execution_count": null,
   "id": "2b3e71b3",
   "metadata": {},
   "outputs": [
    {
     "name": "stdout",
     "output_type": "stream",
     "text": [
      "Selected features: Index(['YearBuilt', '1stFlrSF', 'OverallQual', 'GrLivArea', 'TotalBsmtSF'], dtype='object')\n"
     ]
    }
   ],
   "source": [
    "# Feature Selection using RFE\n",
    "estimator = RandomForestRegressor(random_state=1)\n",
    "selector = RFE(estimator, n_features_to_select=5, step=1)\n",
    "selector = selector.fit(train_X, train_y)\n",
    "\n",
    "selected_features = X.columns[selector.support_]\n",
    "print(\"Selected features:\", selected_features)"
   ]
  },
  {
   "cell_type": "code",
   "execution_count": null,
   "id": "ec020004",
   "metadata": {},
   "outputs": [
    {
     "name": "stdout",
     "output_type": "stream",
     "text": [
      "SalePrice        1.000000\n",
      "OverallQual      0.790982\n",
      "GrLivArea        0.708624\n",
      "GarageCars       0.640409\n",
      "GarageArea       0.623431\n",
      "TotalBsmtSF      0.613581\n",
      "1stFlrSF         0.605852\n",
      "FullBath         0.560664\n",
      "TotRmsAbvGrd     0.533723\n",
      "YearBuilt        0.522897\n",
      "YearRemodAdd     0.507101\n",
      "GarageYrBlt      0.486362\n",
      "MasVnrArea       0.477493\n",
      "Fireplaces       0.466929\n",
      "BsmtFinSF1       0.386420\n",
      "LotFrontage      0.351799\n",
      "WoodDeckSF       0.324413\n",
      "2ndFlrSF         0.319334\n",
      "OpenPorchSF      0.315856\n",
      "HalfBath         0.284108\n",
      "LotArea          0.263843\n",
      "BsmtFullBath     0.227122\n",
      "BsmtUnfSF        0.214479\n",
      "BedroomAbvGr     0.168213\n",
      "ScreenPorch      0.111447\n",
      "PoolArea         0.092404\n",
      "MoSold           0.046432\n",
      "3SsnPorch        0.044584\n",
      "BsmtFinSF2      -0.011378\n",
      "BsmtHalfBath    -0.016844\n",
      "MiscVal         -0.021190\n",
      "Id              -0.021917\n",
      "LowQualFinSF    -0.025606\n",
      "YrSold          -0.028923\n",
      "OverallCond     -0.077856\n",
      "MSSubClass      -0.084284\n",
      "EnclosedPorch   -0.128578\n",
      "KitchenAbvGr    -0.135907\n",
      "Name: SalePrice, dtype: float64\n"
     ]
    }
   ],
   "source": [
    "#columns with high correlation for SalePrice\n",
    "# Select only numeric columns for correlation calculation\n",
    "numeric_home_data = home_data.select_dtypes(include=[np.number])\n",
    "correlations = numeric_home_data.corr()['SalePrice'].sort_values(ascending=False)\n",
    "print(correlations)"
   ]
  },
  {
   "cell_type": "markdown",
   "id": "62bc4f7e",
   "metadata": {},
   "source": [
    "submission"
   ]
  },
  {
   "cell_type": "code",
   "execution_count": 252,
   "id": "02e0956a",
   "metadata": {},
   "outputs": [],
   "source": [
    "test_data_path = 'C:\\\\Users\\\\Rohan\\\\Desktop\\\\Rohan\\\\Kaggle\\\\Housing Prices Competition\\\\home-data-for-ml-course\\\\test.csv'\n",
    "test_data = pd.read_csv(test_data_path)"
   ]
  },
  {
   "cell_type": "code",
   "execution_count": 253,
   "id": "a145cf5a",
   "metadata": {},
   "outputs": [],
   "source": [
    "test_X = test_data[features].copy()\n",
    "test_X = test_X.fillna(0)  # Or use another strategy\n"
   ]
  },
  {
   "cell_type": "code",
   "execution_count": 254,
   "id": "405a5194",
   "metadata": {},
   "outputs": [],
   "source": [
    "rf_model = GradientBoostingRegressor(random_state=1)\n",
    "#rf_model = XGBRegressor(random_state=1, n_estimators=100, learning_rate=0.1)\n",
    "rf_model.fit(train_X, train_y)\n",
    "rf_val_predictions = rf_model.predict(val_X)"
   ]
  },
  {
   "cell_type": "code",
   "execution_count": null,
   "id": "eb8d563b",
   "metadata": {},
   "outputs": [
    {
     "ename": "",
     "evalue": "",
     "output_type": "error",
     "traceback": [
      "\u001b[1;31mThe Kernel crashed while executing code in the current cell or a previous cell. \n",
      "\u001b[1;31mPlease review the code in the cell(s) to identify a possible cause of the failure. \n",
      "\u001b[1;31mClick <a href='https://aka.ms/vscodeJupyterKernelCrash'>here</a> for more info. \n",
      "\u001b[1;31mView Jupyter <a href='command:jupyter.viewOutput'>log</a> for further details."
     ]
    }
   ],
   "source": [
    "# Predict on the test set\n",
    "test_predictions = rf_model.predict(test_X_encoded)\n",
    "output = pd.DataFrame({'Id': test_data.Id, 'SalePrice': test_predictions})\n",
    "output.to_csv('submission.csv', index=False)"
   ]
  },
  {
   "cell_type": "code",
   "execution_count": null,
   "id": "76b4ca72",
   "metadata": {},
   "outputs": [],
   "source": [
    "If you have two separate files—one for training and one for testing—you can train your model on the training file and make predictions on the test file. Here’s how you can do it:"
   ]
  },
  {
   "cell_type": "code",
   "execution_count": null,
   "id": "8ab0fe7a",
   "metadata": {},
   "outputs": [],
   "source": [
    "#1. Load the training data\n",
    "train_data = pd.read_csv('path_to_train.csv')\n",
    "X_train = train_data[features].copy()\n",
    "y_train = train_data['SalePrice']\n",
    "X_train = X_train.fillna(0)  # Or use another strategy"
   ]
  },
  {
   "cell_type": "code",
   "execution_count": null,
   "id": "394e1b5d",
   "metadata": {},
   "outputs": [],
   "source": [
    "#Load the test data\n",
    "test_data = pd.read_csv('path_to_test.csv')\n",
    "X_test = test_data[features].copy()\n",
    "X_test = X_test.fillna(0)  # Or use another strategy"
   ]
  },
  {
   "cell_type": "code",
   "execution_count": null,
   "id": "0ac54949",
   "metadata": {},
   "outputs": [],
   "source": [
    "#3. Train the model on the training data\n",
    "rf_model = RandomForestRegressor(random_state=1)\n",
    "rf_model.fit(X_train, y_train)"
   ]
  },
  {
   "cell_type": "code",
   "execution_count": null,
   "id": "01c24422",
   "metadata": {},
   "outputs": [],
   "source": [
    "#4. Predict on the test data\n",
    "test_predictions = rf_model.predict(X_test)\n",
    "#5. (Optional) Save predictions\n",
    "output = pd.DataFrame({'Id': test_data['Id'], 'SalePrice': test_predictions})\n",
    "output.to_csv('submission.csv', index=False)\n"
   ]
  }
 ],
 "metadata": {
  "kernelspec": {
   "display_name": "Python 3",
   "language": "python",
   "name": "python3"
  },
  "language_info": {
   "codemirror_mode": {
    "name": "ipython",
    "version": 3
   },
   "file_extension": ".py",
   "mimetype": "text/x-python",
   "name": "python",
   "nbconvert_exporter": "python",
   "pygments_lexer": "ipython3",
   "version": "3.11.undefined"
  }
 },
 "nbformat": 4,
 "nbformat_minor": 5
}
